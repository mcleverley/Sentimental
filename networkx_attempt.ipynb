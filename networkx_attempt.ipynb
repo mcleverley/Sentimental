{
 "cells": [
  {
   "cell_type": "markdown",
   "metadata": {
    "toc": true
   },
   "source": [
    "<h1>Table of Contents<span class=\"tocSkip\"></span></h1>\n",
    "<div class=\"toc\"><ul class=\"toc-item\"><li><span><a href=\"#Attempting-Networkx-to-Neo4J-approach\" data-toc-modified-id=\"Attempting-Networkx-to-Neo4J-approach-1\"><span class=\"toc-item-num\">1&nbsp;&nbsp;</span>Attempting Networkx-to-Neo4J approach</a></span><ul class=\"toc-item\"><li><span><a href=\"#two-concerns:\" data-toc-modified-id=\"two-concerns:-1.1\"><span class=\"toc-item-num\">1.1&nbsp;&nbsp;</span>two concerns:</a></span><ul class=\"toc-item\"><li><span><a href=\"#i'll-look-into-Py2Neo-for-now,-since-it-has-more-support\" data-toc-modified-id=\"i'll-look-into-Py2Neo-for-now,-since-it-has-more-support-1.1.1\"><span class=\"toc-item-num\">1.1.1&nbsp;&nbsp;</span>i'll look into Py2Neo for now, since it has more support</a></span></li></ul></li></ul></li></ul></div>"
   ]
  },
  {
   "cell_type": "code",
   "execution_count": 2,
   "metadata": {},
   "outputs": [],
   "source": [
    "import networkx as nx\n",
    "import neonx\n",
    "import json"
   ]
  },
  {
   "cell_type": "markdown",
   "metadata": {},
   "source": [
    "# Attempting Networkx-to-Neo4J approach"
   ]
  },
  {
   "cell_type": "code",
   "execution_count": 4,
   "metadata": {},
   "outputs": [
    {
     "data": {
      "text/plain": [
       "'/Users/mark/Documents/flatiron/projects/sentimental/Sentimental'"
      ]
     },
     "execution_count": 4,
     "metadata": {},
     "output_type": "execute_result"
    }
   ],
   "source": [
    "%pwd"
   ]
  },
  {
   "cell_type": "code",
   "execution_count": 8,
   "metadata": {},
   "outputs": [
    {
     "data": {
      "text/plain": [
       "29061"
      ]
     },
     "execution_count": 8,
     "metadata": {},
     "output_type": "execute_result"
    }
   ],
   "source": [
    "with open('/Users/mark/Documents/flatiron/projects/sentimental/Sentimental/tweets.jsonl') as f:\n",
    "    lines = f.readlines()\n",
    "len(lines) # 29k tweets, each line in .jsonl is a new json"
   ]
  },
  {
   "cell_type": "code",
   "execution_count": 11,
   "metadata": {},
   "outputs": [
    {
     "data": {
      "text/plain": [
       "29061"
      ]
     },
     "execution_count": 11,
     "metadata": {},
     "output_type": "execute_result"
    }
   ],
   "source": [
    "jsons = []\n",
    "for line in lines:\n",
    "    js = json.loads(line) # .loads is different from .load \n",
    "    jsons.append(js) #.loads(tring), perhaps\n",
    "len(jsons)"
   ]
  },
  {
   "cell_type": "code",
   "execution_count": 14,
   "metadata": {},
   "outputs": [],
   "source": [
    "j = jsons[0]"
   ]
  },
  {
   "cell_type": "code",
   "execution_count": 15,
   "metadata": {},
   "outputs": [
    {
     "data": {
      "text/plain": [
       "dict_keys(['timestamp', 'text', 'entities', 'lang', 'retweeted_status', 'quoted_status', 'retweet_count', 'favorite_count', 'user_id', 'coordinates', 'id', 'user'])"
      ]
     },
     "execution_count": 15,
     "metadata": {},
     "output_type": "execute_result"
    }
   ],
   "source": [
    "j.keys()"
   ]
  },
  {
   "cell_type": "code",
   "execution_count": 18,
   "metadata": {},
   "outputs": [
    {
     "data": {
      "text/plain": [
       "'RT @zachjcarter: CHILDCARE\\nBernie: universal\\nWarren: means tested\\n\\nSTUDENT DEBT FORGIVENESS\\nBernie: universal\\nWarren: means tested\\n\\nRENT CO…'"
      ]
     },
     "execution_count": 18,
     "metadata": {},
     "output_type": "execute_result"
    }
   ],
   "source": [
    "j['text']"
   ]
  },
  {
   "cell_type": "code",
   "execution_count": 19,
   "metadata": {},
   "outputs": [
    {
     "data": {
      "text/plain": [
       "{'hashtags': [],\n",
       " 'urls': [],\n",
       " 'user_mentions': [{'screen_name': 'zachjcarter',\n",
       "   'name': 'Zach Carter',\n",
       "   'id': 755826044225986560,\n",
       "   'id_str': '755826044225986560',\n",
       "   'indices': [3, 15]}],\n",
       " 'symbols': []}"
      ]
     },
     "execution_count": 19,
     "metadata": {},
     "output_type": "execute_result"
    }
   ],
   "source": [
    "j['entities']"
   ]
  },
  {
   "cell_type": "code",
   "execution_count": 21,
   "metadata": {},
   "outputs": [],
   "source": [
    "j['coordinates'] # some don't have geoloc"
   ]
  },
  {
   "cell_type": "code",
   "execution_count": 27,
   "metadata": {},
   "outputs": [
    {
     "name": "stdout",
     "output_type": "stream",
     "text": [
      "29059\n"
     ]
    }
   ],
   "source": [
    "c = 0\n",
    "for js in jsons:\n",
    "    if js['coordinates'] == None:\n",
    "        c+=1\n",
    "print(c) # we've got 2/29,000 with geoloc. hmm"
   ]
  },
  {
   "cell_type": "code",
   "execution_count": 28,
   "metadata": {},
   "outputs": [],
   "source": [
    "def status_to_dict(tweet):\n",
    "    try:\n",
    "        if tweet.lang == 'in':\n",
    "            return None\n",
    "        tweet_ = dict()\n",
    "        tweet_['timestamp'] = tweet.created_at.timestamp()\n",
    "        if 'extended_text' in tweet._json.keys():\n",
    "            tweet_['text'] = tweet.extended_text.full_text\n",
    "            if 'extended_entities' in tweet.extended_text._json.keys():\n",
    "                tweet_['entities'] = tweet.extended_text.entities\n",
    "            else:\n",
    "                tweet_['entities'] = tweet.extended_text.entities\n",
    "        else:\n",
    "            tweet_['text'] = tweet.text\n",
    "            tweet_['entities'] = tweet.entities\n",
    "        if tweet.lang:\n",
    "            tweet_['lang'] = tweet.lang\n",
    "        if 'retweeted_status' in tweet._json.keys():\n",
    "            tweet_['retweeted_status'] = status_to_dict(tweet.retweeted_status)\n",
    "        if 'quoted_status' in tweet._json.keys():\n",
    "            tweet_['quoted_status'] = status_to_dict(tweet.quoted_status)\n",
    "        if tweet.in_reply_to_status_id:\n",
    "            tweet_['in_reply_to_status_id'] = tweet.in_reply_to_status_id\n",
    "        if tweet.in_reply_to_user_id:\n",
    "            tweet_['in_reply_to_user_id'] = tweet.in_reply_to_user_id\n",
    "        if tweet.retweet_count:\n",
    "            tweet_['retweet_count'] = tweet.retweet_count\n",
    "        else:\n",
    "            tweet_['retweet_count'] = 0\n",
    "        if tweet.favorite_count:\n",
    "            tweet_['favorite_count'] = tweet.favorite_count\n",
    "        else:\n",
    "            tweet_['favorite_count'] = 0\n",
    "        tweet_['user_id'] = tweet.user.id\n",
    "        tweet_['coordinates'] = tweet.coordinates\n",
    "        tweet_['id'] = int(tweet.id)\n",
    "    except Exception as e:\n",
    "        print(e)\n",
    "        logging.error(f'Error on status_to_dict[Tweet]: {e}\\nFailed tweet: {tweet._json}\\n')\n",
    "\n",
    "    try:\n",
    "        user = dict()\n",
    "        user['screen_name'] = tweet.user.screen_name\n",
    "        user['followers_count'] = tweet.user.followers_count\n",
    "        user['verified'] = tweet.user.verified\n",
    "        user['created_at'] = tweet.user.created_at.timestamp()\n",
    "        user['id'] = tweet.user.id\n",
    "        if tweet.user.lang:\n",
    "            user['lang'] = tweet.user.lang\n",
    "        tweet_['user'] = user\n",
    "    except Exception as e:\n",
    "        print(e)\n",
    "        logging.error(f'Error on status_to_dict[User]: {e}\\nFailed tweet: {tweet._json}\\n')\n",
    "        tweet_['user'] = None\n",
    "    return tweet_"
   ]
  },
  {
   "cell_type": "code",
   "execution_count": 31,
   "metadata": {},
   "outputs": [
    {
     "data": {
      "text/plain": [
       "'en'"
      ]
     },
     "execution_count": 31,
     "metadata": {},
     "output_type": "execute_result"
    }
   ],
   "source": [
    "j['lang']"
   ]
  },
  {
   "cell_type": "code",
   "execution_count": 32,
   "metadata": {},
   "outputs": [],
   "source": [
    "# parsed = []\n",
    "# for j in jsons:\n",
    "#     out = status_to_dict(j)\n",
    "#     parsed.append(out)"
   ]
  },
  {
   "cell_type": "markdown",
   "metadata": {},
   "source": [
    "## two concerns:\n",
    "- rebuilding Dan's methods to fit into a networkx graph would require a lot of strange resyntaxing, so 'if it ain't broke'\n",
    "- networkx-neo4j only supports one type/label of edge per graph write-push\n",
    "    - this tweet graph has nodes of several types interlocking with edges of several types\n",
    "    - no clear way to composite push the graph without duplication?\n",
    "### i'll look into Py2Neo for now, since it has more support"
   ]
  },
  {
   "cell_type": "code",
   "execution_count": null,
   "metadata": {},
   "outputs": [],
   "source": []
  },
  {
   "cell_type": "code",
   "execution_count": null,
   "metadata": {},
   "outputs": [],
   "source": []
  },
  {
   "cell_type": "code",
   "execution_count": null,
   "metadata": {},
   "outputs": [],
   "source": []
  },
  {
   "cell_type": "code",
   "execution_count": null,
   "metadata": {},
   "outputs": [],
   "source": []
  },
  {
   "cell_type": "code",
   "execution_count": null,
   "metadata": {},
   "outputs": [],
   "source": []
  },
  {
   "cell_type": "code",
   "execution_count": null,
   "metadata": {},
   "outputs": [],
   "source": []
  },
  {
   "cell_type": "code",
   "execution_count": null,
   "metadata": {},
   "outputs": [],
   "source": []
  },
  {
   "cell_type": "code",
   "execution_count": null,
   "metadata": {},
   "outputs": [],
   "source": []
  },
  {
   "cell_type": "code",
   "execution_count": null,
   "metadata": {},
   "outputs": [],
   "source": []
  },
  {
   "cell_type": "code",
   "execution_count": null,
   "metadata": {},
   "outputs": [],
   "source": []
  },
  {
   "cell_type": "code",
   "execution_count": null,
   "metadata": {},
   "outputs": [],
   "source": []
  },
  {
   "cell_type": "code",
   "execution_count": null,
   "metadata": {},
   "outputs": [],
   "source": []
  },
  {
   "cell_type": "code",
   "execution_count": null,
   "metadata": {},
   "outputs": [],
   "source": []
  }
 ],
 "metadata": {
  "kernelspec": {
   "display_name": "Python 3",
   "language": "python",
   "name": "python3"
  },
  "language_info": {
   "codemirror_mode": {
    "name": "ipython",
    "version": 3
   },
   "file_extension": ".py",
   "mimetype": "text/x-python",
   "name": "python",
   "nbconvert_exporter": "python",
   "pygments_lexer": "ipython3",
   "version": "3.7.4"
  },
  "toc": {
   "base_numbering": 1,
   "nav_menu": {},
   "number_sections": true,
   "sideBar": true,
   "skip_h1_title": false,
   "title_cell": "Table of Contents",
   "title_sidebar": "Contents",
   "toc_cell": true,
   "toc_position": {},
   "toc_section_display": true,
   "toc_window_display": true
  }
 },
 "nbformat": 4,
 "nbformat_minor": 2
}
